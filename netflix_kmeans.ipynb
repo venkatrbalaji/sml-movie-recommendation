{
 "cells": [
  {
   "cell_type": "code",
   "execution_count": 1,
   "metadata": {},
   "outputs": [],
   "source": [
    "# from sklearn_pandas import DataFrameMapper, cross_val_score\n",
    "import pandas as pd\n",
    "import numpy as np\n",
    "from scipy.sparse import csr_matrix\n",
    "import helper\n",
    "import sklearn.preprocessing, sklearn.decomposition, sklearn.linear_model, sklearn.pipeline, sklearn.metrics\n",
    "from sklearn.feature_extraction.text import CountVectorizer\n",
    "from sklearn.cluster import KMeans\n",
    "from sklearn import metrics\n",
    "from sklearn.decomposition import PCA,TruncatedSVD\n",
    "import matplotlib.cm as cm\n",
    "from sklearn.metrics import silhouette_samples, silhouette_score\n",
    "from sklearn.impute import SimpleImputer\n",
    "import random"
   ]
  },
  {
   "cell_type": "code",
   "execution_count": 2,
   "metadata": {},
   "outputs": [],
   "source": [
    "# =======================+=======================+=======================+=======================+\n",
    "movies = pd.read_csv('./netflix-prize-data/movie_titles.csv', encoding = \"ISO-8859-1\", header = None, names = ['movieId', 'Year', 'Name1', 'Name2', 'Name3', 'Name4'])\n",
    "for ind, row in movies.iterrows():\n",
    "    movies.loc[ind, ['title']] = \",\".join([str(title) if (str(title) != \"nan\") else \"\" for title in movies.loc[ind, ['Name1', 'Name2', 'Name3', 'Name4']]]).rstrip(\",\")\n",
    "\n",
    "movies.drop(labels=['Name1', 'Name2', 'Name3', 'Name4'], axis=1, inplace=True)\n",
    "# movies.set_index('movieId', inplace = True)"
   ]
  },
  {
   "cell_type": "markdown",
   "metadata": {},
   "source": [
    "Run below cell for preprocessing data or when running for the first time"
   ]
  },
  {
   "cell_type": "code",
   "execution_count": 3,
   "metadata": {},
   "outputs": [],
   "source": [
    "# # Skip date\n",
    "# df1 = pd.read_csv('./netflix-prize-data/combined_data_1.txt', header = None, names = ['userId','rating', 'Date'], usecols = [0,1, 2])\n",
    "# df1['rating'] = df1['rating'].astype(float)\n",
    "\n",
    "# ratings = df1\n",
    "# # =======================+=======================+=======================+=======================+\n",
    "# df_nan = pd.DataFrame(pd.isnull(ratings.rating))\n",
    "# df_nan = df_nan[df_nan['rating'] == True]\n",
    "# df_nan = df_nan.reset_index()\n",
    "\n",
    "# movie_np = []\n",
    "# movieId = 1\n",
    "# movie_titles = []\n",
    "\n",
    "\n",
    "# for i,j in zip(df_nan['index'][1:],df_nan['index'][:-1]):\n",
    "\n",
    "#     temp = np.full((1,i-j-1), movieId)\\\n",
    "#     movie_np = np.append(movie_np, temp)\n",
    "#     movieId += 1\n",
    "\n",
    "# last_record = np.full((1,len(ratings) - df_nan.iloc[-1, 0] - 1),movieId)\n",
    "# movie_np = np.append(movie_np, last_record)\n",
    "# ratings = ratings[pd.notnull(ratings['rating'])]\n",
    "\n",
    "# ratings['movieId'] = movie_np.astype(int)\n",
    "# ratings['userId'] = ratings['userId'].astype(int)\n",
    "# print('-Dataset examples-')\n",
    "# print(ratings.iloc[::5000000, :])\n",
    "# # =======================+=======================+=======================+=======================+\n",
    "# ratings.to_csv(\"./netflix-prize-data/pre-processed/user_movie_rating.csv\", index=False)"
   ]
  },
  {
   "cell_type": "code",
   "execution_count": 4,
   "metadata": {},
   "outputs": [],
   "source": [
    "ratings = pd.read_csv('./netflix-prize-data/pre-processed/user_movie_rating.csv', low_memory=False)"
   ]
  },
  {
   "cell_type": "code",
   "execution_count": 5,
   "metadata": {},
   "outputs": [
    {
     "data": {
      "text/html": [
       "<div>\n",
       "<style scoped>\n",
       "    .dataframe tbody tr th:only-of-type {\n",
       "        vertical-align: middle;\n",
       "    }\n",
       "\n",
       "    .dataframe tbody tr th {\n",
       "        vertical-align: top;\n",
       "    }\n",
       "\n",
       "    .dataframe thead th {\n",
       "        text-align: right;\n",
       "    }\n",
       "</style>\n",
       "<table border=\"1\" class=\"dataframe\">\n",
       "  <thead>\n",
       "    <tr style=\"text-align: right;\">\n",
       "      <th></th>\n",
       "      <th>userId</th>\n",
       "      <th>rating</th>\n",
       "      <th>Date</th>\n",
       "      <th>movieId</th>\n",
       "    </tr>\n",
       "  </thead>\n",
       "  <tbody>\n",
       "    <tr>\n",
       "      <th>0</th>\n",
       "      <td>1488844</td>\n",
       "      <td>3.0</td>\n",
       "      <td>2005-09-06</td>\n",
       "      <td>1</td>\n",
       "    </tr>\n",
       "    <tr>\n",
       "      <th>1</th>\n",
       "      <td>822109</td>\n",
       "      <td>5.0</td>\n",
       "      <td>2005-05-13</td>\n",
       "      <td>1</td>\n",
       "    </tr>\n",
       "    <tr>\n",
       "      <th>2</th>\n",
       "      <td>885013</td>\n",
       "      <td>4.0</td>\n",
       "      <td>2005-10-19</td>\n",
       "      <td>1</td>\n",
       "    </tr>\n",
       "    <tr>\n",
       "      <th>3</th>\n",
       "      <td>30878</td>\n",
       "      <td>4.0</td>\n",
       "      <td>2005-12-26</td>\n",
       "      <td>1</td>\n",
       "    </tr>\n",
       "    <tr>\n",
       "      <th>4</th>\n",
       "      <td>823519</td>\n",
       "      <td>3.0</td>\n",
       "      <td>2004-05-03</td>\n",
       "      <td>1</td>\n",
       "    </tr>\n",
       "  </tbody>\n",
       "</table>\n",
       "</div>"
      ],
      "text/plain": [
       "    userId  rating        Date  movieId\n",
       "0  1488844     3.0  2005-09-06        1\n",
       "1   822109     5.0  2005-05-13        1\n",
       "2   885013     4.0  2005-10-19        1\n",
       "3    30878     4.0  2005-12-26        1\n",
       "4   823519     3.0  2004-05-03        1"
      ]
     },
     "execution_count": 5,
     "metadata": {},
     "output_type": "execute_result"
    }
   ],
   "source": [
    "ratings.head()"
   ]
  },
  {
   "cell_type": "code",
   "execution_count": 6,
   "metadata": {},
   "outputs": [
    {
     "name": "stdout",
     "output_type": "stream",
     "text": [
      "Movies minimum rating count: 1799.0\n",
      "Customers minimum rating count: 52.0\n",
      "Original Shape: (24053764, 4)\n",
      "After Trim Shape: (17337458, 4)\n",
      "unique movies left:\n",
      "1350\n",
      "unique customers left:\n",
      "143458\n"
     ]
    }
   ],
   "source": [
    "movies_percentile = 0.7\n",
    "#Movies rate count percentile\n",
    "#I will leave only movies on the (1-movies_percentile) percentile with respect to movies rating count\n",
    "\n",
    "customers_percentile = 0.7\n",
    "#Customers rate count percentile\n",
    "#I will leave only customers on the (1-customers_percentile) percentile with respect to customers rating count\n",
    "\n",
    "\n",
    "df_movie_summary = ratings.groupby('movieId')['rating'].agg(['count'])\n",
    "df_movie_summary.index = df_movie_summary.index.map(int)\n",
    "movie_benchmark = round(df_movie_summary['count'].quantile(movies_percentile),0)\n",
    "drop_movie_list = df_movie_summary[df_movie_summary['count'] < movie_benchmark].index\n",
    "\n",
    "df_cust_summary = ratings.groupby('userId')['rating'].agg(['count'])\n",
    "df_cust_summary.index = df_cust_summary.index.map(int)\n",
    "cust_benchmark = round(df_cust_summary['count'].quantile(customers_percentile),0)\n",
    "drop_cust_list = df_cust_summary[df_cust_summary['count'] < cust_benchmark].index\n",
    "\n",
    "print('Movies minimum rating count: {}'.format(movie_benchmark))\n",
    "print('Customers minimum rating count: {}'.format(cust_benchmark))\n",
    "\n",
    "print('Original Shape: {}'.format(ratings.shape))\n",
    "ratings = ratings[~ratings['movieId'].isin(drop_movie_list)]\n",
    "ratings = ratings[~ratings['userId'].isin(drop_cust_list)]\n",
    "\n",
    "print('After Trim Shape: {}'.format(ratings.shape))\n",
    "\n",
    "print('unique movies left:')\n",
    "print(ratings['movieId'].unique().size)\n",
    "print('unique customers left:')\n",
    "print(ratings['userId'].unique().size)"
   ]
  },
  {
   "cell_type": "code",
   "execution_count": 7,
   "metadata": {},
   "outputs": [],
   "source": [
    "# df_p = pd.pivot_table(df,values='rating',index='userId',columns='movieId')\n",
    "# df_p = df_p.fillna(0)\n",
    "# print(df_p.head(10))"
   ]
  },
  {
   "cell_type": "code",
   "execution_count": 8,
   "metadata": {},
   "outputs": [
    {
     "name": "stdout",
     "output_type": "stream",
     "text": [
      "dataset dimensions:  (143458, 1342) \n",
      "\n",
      "Subset example:\n"
     ]
    },
    {
     "data": {
      "text/html": [
       "<div>\n",
       "<style scoped>\n",
       "    .dataframe tbody tr th:only-of-type {\n",
       "        vertical-align: middle;\n",
       "    }\n",
       "\n",
       "    .dataframe tbody tr th {\n",
       "        vertical-align: top;\n",
       "    }\n",
       "\n",
       "    .dataframe thead th {\n",
       "        text-align: right;\n",
       "    }\n",
       "</style>\n",
       "<table border=\"1\" class=\"dataframe\">\n",
       "  <thead>\n",
       "    <tr style=\"text-align: right;\">\n",
       "      <th>title</th>\n",
       "      <th>10</th>\n",
       "      <th>10 Things I Hate About You</th>\n",
       "      <th>101 Dalmatians II: Patch's London Adventure</th>\n",
       "      <th>11:14</th>\n",
       "      <th>13 Ghosts</th>\n",
       "      <th>18 Again</th>\n",
       "      <th>1984</th>\n",
       "      <th>2 Fast 2 Furious</th>\n",
       "      <th>200 Cigarettes</th>\n",
       "      <th>2010: The Year We Make Contact</th>\n",
       "    </tr>\n",
       "    <tr>\n",
       "      <th>userId</th>\n",
       "      <th></th>\n",
       "      <th></th>\n",
       "      <th></th>\n",
       "      <th></th>\n",
       "      <th></th>\n",
       "      <th></th>\n",
       "      <th></th>\n",
       "      <th></th>\n",
       "      <th></th>\n",
       "      <th></th>\n",
       "    </tr>\n",
       "  </thead>\n",
       "  <tbody>\n",
       "    <tr>\n",
       "      <th>6</th>\n",
       "      <td>NaN</td>\n",
       "      <td>NaN</td>\n",
       "      <td>NaN</td>\n",
       "      <td>NaN</td>\n",
       "      <td>NaN</td>\n",
       "      <td>NaN</td>\n",
       "      <td>4.0</td>\n",
       "      <td>NaN</td>\n",
       "      <td>NaN</td>\n",
       "      <td>NaN</td>\n",
       "    </tr>\n",
       "    <tr>\n",
       "      <th>7</th>\n",
       "      <td>NaN</td>\n",
       "      <td>NaN</td>\n",
       "      <td>NaN</td>\n",
       "      <td>NaN</td>\n",
       "      <td>NaN</td>\n",
       "      <td>NaN</td>\n",
       "      <td>NaN</td>\n",
       "      <td>3.0</td>\n",
       "      <td>NaN</td>\n",
       "      <td>NaN</td>\n",
       "    </tr>\n",
       "    <tr>\n",
       "      <th>79</th>\n",
       "      <td>NaN</td>\n",
       "      <td>NaN</td>\n",
       "      <td>3.0</td>\n",
       "      <td>NaN</td>\n",
       "      <td>NaN</td>\n",
       "      <td>NaN</td>\n",
       "      <td>NaN</td>\n",
       "      <td>2.0</td>\n",
       "      <td>NaN</td>\n",
       "      <td>NaN</td>\n",
       "    </tr>\n",
       "    <tr>\n",
       "      <th>97</th>\n",
       "      <td>NaN</td>\n",
       "      <td>NaN</td>\n",
       "      <td>NaN</td>\n",
       "      <td>NaN</td>\n",
       "      <td>NaN</td>\n",
       "      <td>NaN</td>\n",
       "      <td>NaN</td>\n",
       "      <td>NaN</td>\n",
       "      <td>NaN</td>\n",
       "      <td>NaN</td>\n",
       "    </tr>\n",
       "    <tr>\n",
       "      <th>134</th>\n",
       "      <td>NaN</td>\n",
       "      <td>5.0</td>\n",
       "      <td>NaN</td>\n",
       "      <td>NaN</td>\n",
       "      <td>NaN</td>\n",
       "      <td>NaN</td>\n",
       "      <td>NaN</td>\n",
       "      <td>5.0</td>\n",
       "      <td>NaN</td>\n",
       "      <td>NaN</td>\n",
       "    </tr>\n",
       "    <tr>\n",
       "      <th>169</th>\n",
       "      <td>NaN</td>\n",
       "      <td>NaN</td>\n",
       "      <td>NaN</td>\n",
       "      <td>NaN</td>\n",
       "      <td>NaN</td>\n",
       "      <td>NaN</td>\n",
       "      <td>NaN</td>\n",
       "      <td>NaN</td>\n",
       "      <td>NaN</td>\n",
       "      <td>NaN</td>\n",
       "    </tr>\n",
       "  </tbody>\n",
       "</table>\n",
       "</div>"
      ],
      "text/plain": [
       "title   10  10 Things I Hate About You  \\\n",
       "userId                                   \n",
       "6      NaN                         NaN   \n",
       "7      NaN                         NaN   \n",
       "79     NaN                         NaN   \n",
       "97     NaN                         NaN   \n",
       "134    NaN                         5.0   \n",
       "169    NaN                         NaN   \n",
       "\n",
       "title   101 Dalmatians II: Patch's London Adventure  11:14  13 Ghosts  \\\n",
       "userId                                                                  \n",
       "6                                               NaN    NaN        NaN   \n",
       "7                                               NaN    NaN        NaN   \n",
       "79                                              3.0    NaN        NaN   \n",
       "97                                              NaN    NaN        NaN   \n",
       "134                                             NaN    NaN        NaN   \n",
       "169                                             NaN    NaN        NaN   \n",
       "\n",
       "title   18 Again  1984  2 Fast 2 Furious  200 Cigarettes  \\\n",
       "userId                                                     \n",
       "6            NaN   4.0               NaN             NaN   \n",
       "7            NaN   NaN               3.0             NaN   \n",
       "79           NaN   NaN               2.0             NaN   \n",
       "97           NaN   NaN               NaN             NaN   \n",
       "134          NaN   NaN               5.0             NaN   \n",
       "169          NaN   NaN               NaN             NaN   \n",
       "\n",
       "title   2010: The Year We Make Contact  \n",
       "userId                                  \n",
       "6                                  NaN  \n",
       "7                                  NaN  \n",
       "79                                 NaN  \n",
       "97                                 NaN  \n",
       "134                                NaN  \n",
       "169                                NaN  "
      ]
     },
     "execution_count": 8,
     "metadata": {},
     "output_type": "execute_result"
    }
   ],
   "source": [
    "# Merge the two tables then pivot so we have Users X Movies dataframe\n",
    "ratings_title = pd.merge(ratings, movies[['movieId', 'title']], on='movieId' )\n",
    "user_movie_ratings = pd.pivot_table(ratings_title, index='userId', columns= 'title', values='rating')\n",
    "\n",
    "print('dataset dimensions: ', user_movie_ratings.shape, '\\n\\nSubset example:')\n",
    "user_movie_ratings.iloc[:6, :10]"
   ]
  },
  {
   "cell_type": "code",
   "execution_count": null,
   "metadata": {},
   "outputs": [],
   "source": []
  },
  {
   "cell_type": "code",
   "execution_count": 9,
   "metadata": {},
   "outputs": [
    {
     "name": "stderr",
     "output_type": "stream",
     "text": [
      "/Users/venkataramanabalajirajendran/Documents/Venkat/MS/Spring2022/SML/project/helper.py:169: FutureWarning: The frame.append method is deprecated and will be removed from pandas in a future version. Use pandas.concat instead.\n",
      "  user_movie_ratings = user_movie_ratings.append(user_movie_ratings.count(), ignore_index=True)\n"
     ]
    }
   ],
   "source": [
    "user_movie_ratings =  pd.pivot_table(ratings_title, index='userId', columns= 'title', values='rating')\n",
    "most_rated_movies_1k = helper.get_most_rated_movies(user_movie_ratings, 1000)\n",
    "# most_rated_movies_1k = helper.get_most_rated_movies(user_movie_ratings, 1000)"
   ]
  },
  {
   "cell_type": "markdown",
   "metadata": {},
   "source": [
    "To have sklearn run k-means clustering to a dataset with missing values like this, we will first cast it to the sparse csr matrix type defined in the SciPi library.\n",
    "\n",
    "To convert from a pandas dataframe to a sparse matrix, we'll have to convert to SparseDataFrame, then use pandas' to_coo() method for the conversion.\n",
    "\n",
    "Note: to_coo() was only added in later versions of pandas. If you run into an error with the next cell, make sure pandas is up to date."
   ]
  },
  {
   "cell_type": "code",
   "execution_count": 10,
   "metadata": {},
   "outputs": [],
   "source": [
    "# most_rated_movies_1k.describe()\n",
    "# np.isnan(sparse_ratings)"
   ]
  },
  {
   "cell_type": "code",
   "execution_count": 11,
   "metadata": {},
   "outputs": [],
   "source": [
    "# sparse_ratings = csr_matrix(pd.SparseDataFrame(most_rated_movies_1k).to_coo())\n",
    "# sparse_ratings = csr_matrix(most_rated_movies_1k.values)\n",
    "sparse_df = most_rated_movies_1k.astype(pd.SparseDtype(\"float64\",fill_value=0))\n",
    "# sparse_df = user_movie_ratings.astype(pd.SparseDtype(\"float64\",fill_value=0))\n",
    "# sparse_ratings = csr_matrix(sparse_df.sparse.to_coo())\n",
    "# sparse_ratings = pd.DataFrame.sparse.from_spmatrix(sparse_df)"
   ]
  },
  {
   "cell_type": "code",
   "execution_count": 12,
   "metadata": {},
   "outputs": [],
   "source": [
    "sparse_ratings = csr_matrix(sparse_df.sparse.to_coo())"
   ]
  },
  {
   "cell_type": "code",
   "execution_count": 13,
   "metadata": {},
   "outputs": [],
   "source": [
    "sparse_ratings.data[np.isnan(sparse_ratings.data)] = 0.0"
   ]
  },
  {
   "cell_type": "code",
   "execution_count": 15,
   "metadata": {},
   "outputs": [],
   "source": [
    "svd = TruncatedSVD(n_components=600)\n",
    "sparse_ratings_reduced = svd.fit_transform(sparse_ratings)"
   ]
  },
  {
   "cell_type": "markdown",
   "metadata": {},
   "source": [
    "## Let's cluster!\n",
    "\n",
    "With k-means, we have to specify k, the number of clusters. Let's arbitrarily try k=20 (A better way to pick k is as illustrated above with the elbow method. That would take some processing time to run, however.):"
   ]
  },
  {
   "cell_type": "code",
   "execution_count": 26,
   "metadata": {},
   "outputs": [],
   "source": [
    "# 35 clusters\n",
    "predictions = KMeans(n_clusters=35, algorithm='full').fit_predict(sparse_ratings_reduced)"
   ]
  },
  {
   "cell_type": "markdown",
   "metadata": {},
   "source": [
    "# Custom Start"
   ]
  },
  {
   "cell_type": "code",
   "execution_count": 27,
   "metadata": {},
   "outputs": [],
   "source": [
    "np.savetxt(\"./preds/kmeans_preds_35.txt\", predictions.astype(int), fmt=\"%i\")"
   ]
  },
  {
   "cell_type": "markdown",
   "metadata": {},
   "source": [
    "# Custom END"
   ]
  },
  {
   "cell_type": "markdown",
   "metadata": {},
   "source": [
    "To visualize some of these clusters, we'll plot each cluster as a heat map:"
   ]
  },
  {
   "cell_type": "code",
   "execution_count": 28,
   "metadata": {},
   "outputs": [],
   "source": [
    "max_users = 70\n",
    "max_movies = 50\n",
    "\n",
    "clustered = pd.concat([most_rated_movies_1k.reset_index(), pd.DataFrame({'group':predictions})], axis=1)\n",
    "# clustered = pd.concat([user_movie_ratings.reset_index(), pd.DataFrame({'group':predictions})], axis=1)\n",
    "# helper.draw_movie_clusters(clustered, max_users, max_movies)"
   ]
  },
  {
   "cell_type": "markdown",
   "metadata": {},
   "source": [
    "## Prediction\n",
    "\n",
    "Let's pick a cluster and a specific user and see what useful things this clustering will allow us to do.\n",
    "\n",
    "Let's first pick a cluster:"
   ]
  },
  {
   "cell_type": "code",
   "execution_count": null,
   "metadata": {},
   "outputs": [],
   "source": [
    "# Find User => \n",
    "# TODO: Pick a cluster ID from the clusters above\n",
    "userId = 1488844\n",
    "# cluster_number = 7\n",
    "\n",
    "# Let's filter to only see the region of the dataset with the most number of values \n",
    "n_users = 75\n",
    "n_movies = 300\n",
    "for cluster_number in range(35):\n",
    "    if userId in clus\n",
    "    cluster = clustered[clustered.group == cluster_number].drop(['index', 'group'], axis=1)\n",
    "    cluster = helper.sort_by_rating_density(cluster, n_movies, n_users)\n",
    "helper.draw_movies_heatmap(cluster, axis_labels=False)"
   ]
  },
  {
   "cell_type": "code",
   "execution_count": 29,
   "metadata": {},
   "outputs": [
    {
     "name": "stderr",
     "output_type": "stream",
     "text": [
      "/Users/venkataramanabalajirajendran/Documents/Venkat/MS/Spring2022/SML/project/helper.py:169: FutureWarning: The frame.append method is deprecated and will be removed from pandas in a future version. Use pandas.concat instead.\n",
      "  user_movie_ratings = user_movie_ratings.append(user_movie_ratings.count(), ignore_index=True)\n"
     ]
    },
    {
     "data": {
      "image/png": "[encoded data removed]",
      "text/plain": [
       "<Figure size 1080x288 with 2 Axes>"
      ]
     },
     "metadata": {
      "needs_background": "light"
     },
     "output_type": "display_data"
    }
   ],
   "source": [
    "# TODO: Pick a cluster ID from the clusters above\n",
    "cluster_number = 7\n",
    "\n",
    "# Let's filter to only see the region of the dataset with the most number of values \n",
    "n_users = 75\n",
    "n_movies = 300\n",
    "cluster = clustered[clustered.group == cluster_number].drop(['index', 'group'], axis=1)\n",
    "\n",
    "cluster = helper.sort_by_rating_density(cluster, n_movies, n_users)\n",
    "helper.draw_movies_heatmap(cluster, axis_labels=False)"
   ]
  },
  {
   "cell_type": "markdown",
   "metadata": {},
   "source": [
    "And the actual ratings in the cluster look like this:"
   ]
  },
  {
   "cell_type": "code",
   "execution_count": 30,
   "metadata": {},
   "outputs": [
    {
     "data": {
      "text/html": [
       "<div>\n",
       "<style scoped>\n",
       "    .dataframe tbody tr th:only-of-type {\n",
       "        vertical-align: middle;\n",
       "    }\n",
       "\n",
       "    .dataframe tbody tr th {\n",
       "        vertical-align: top;\n",
       "    }\n",
       "\n",
       "    .dataframe thead th {\n",
       "        text-align: right;\n",
       "    }\n",
       "</style>\n",
       "<table border=\"1\" class=\"dataframe\">\n",
       "  <thead>\n",
       "    <tr style=\"text-align: right;\">\n",
       "      <th></th>\n",
       "      <th>Pirates of the Caribbean: The Curse of the Black Pearl</th>\n",
       "      <th>Lord of the Rings: The Fellowship of the Ring</th>\n",
       "      <th>The Italian Job</th>\n",
       "      <th>The Last Samurai</th>\n",
       "      <th>American Beauty</th>\n",
       "      <th>Bruce Almighty</th>\n",
       "      <th>The Bourne Supremacy</th>\n",
       "      <th>The Sixth Sense</th>\n",
       "      <th>Kill Bill: Vol. 2</th>\n",
       "      <th>Shrek 2</th>\n",
       "      <th>...</th>\n",
       "      <th>The Prime of Miss Jean Brodie</th>\n",
       "      <th>Highlander: Season 5</th>\n",
       "      <th>Father's Little Dividend</th>\n",
       "      <th>The Computer Wore Tennis Shoes</th>\n",
       "      <th>The Hunchback of Notre Dame</th>\n",
       "      <th>Missing in Action 2: The Beginning / Missing in Action 3: Braddock</th>\n",
       "      <th>The Love Letter</th>\n",
       "      <th>Richie Rich</th>\n",
       "      <th>Holiday in the Sun</th>\n",
       "      <th>Police Academy 5: Assignment - Miami Beach</th>\n",
       "    </tr>\n",
       "  </thead>\n",
       "  <tbody>\n",
       "    <tr>\n",
       "      <th>348</th>\n",
       "      <td>4.0</td>\n",
       "      <td>4.0</td>\n",
       "      <td>4.0</td>\n",
       "      <td>5.0</td>\n",
       "      <td>3.0</td>\n",
       "      <td>3.0</td>\n",
       "      <td>4.0</td>\n",
       "      <td>1.0</td>\n",
       "      <td>4.0</td>\n",
       "      <td>1.0</td>\n",
       "      <td>...</td>\n",
       "      <td></td>\n",
       "      <td>5.0</td>\n",
       "      <td>1.0</td>\n",
       "      <td></td>\n",
       "      <td></td>\n",
       "      <td></td>\n",
       "      <td></td>\n",
       "      <td>1.0</td>\n",
       "      <td></td>\n",
       "      <td></td>\n",
       "    </tr>\n",
       "    <tr>\n",
       "      <th>4447</th>\n",
       "      <td>3.0</td>\n",
       "      <td>1.0</td>\n",
       "      <td>2.0</td>\n",
       "      <td>5.0</td>\n",
       "      <td>5.0</td>\n",
       "      <td>2.0</td>\n",
       "      <td>2.0</td>\n",
       "      <td>4.0</td>\n",
       "      <td>2.0</td>\n",
       "      <td>2.0</td>\n",
       "      <td>...</td>\n",
       "      <td></td>\n",
       "      <td></td>\n",
       "      <td></td>\n",
       "      <td></td>\n",
       "      <td></td>\n",
       "      <td></td>\n",
       "      <td></td>\n",
       "      <td></td>\n",
       "      <td></td>\n",
       "      <td></td>\n",
       "    </tr>\n",
       "    <tr>\n",
       "      <th>6495</th>\n",
       "      <td>3.0</td>\n",
       "      <td></td>\n",
       "      <td>3.0</td>\n",
       "      <td>2.0</td>\n",
       "      <td>3.0</td>\n",
       "      <td>3.0</td>\n",
       "      <td>3.0</td>\n",
       "      <td></td>\n",
       "      <td>3.0</td>\n",
       "      <td>2.0</td>\n",
       "      <td>...</td>\n",
       "      <td></td>\n",
       "      <td></td>\n",
       "      <td></td>\n",
       "      <td></td>\n",
       "      <td>2.0</td>\n",
       "      <td></td>\n",
       "      <td></td>\n",
       "      <td></td>\n",
       "      <td></td>\n",
       "      <td></td>\n",
       "    </tr>\n",
       "    <tr>\n",
       "      <th>2104</th>\n",
       "      <td>4.0</td>\n",
       "      <td></td>\n",
       "      <td>4.0</td>\n",
       "      <td>4.0</td>\n",
       "      <td>4.0</td>\n",
       "      <td></td>\n",
       "      <td>3.0</td>\n",
       "      <td>3.0</td>\n",
       "      <td>5.0</td>\n",
       "      <td></td>\n",
       "      <td>...</td>\n",
       "      <td></td>\n",
       "      <td></td>\n",
       "      <td></td>\n",
       "      <td></td>\n",
       "      <td></td>\n",
       "      <td></td>\n",
       "      <td></td>\n",
       "      <td></td>\n",
       "      <td></td>\n",
       "      <td></td>\n",
       "    </tr>\n",
       "    <tr>\n",
       "      <th>236</th>\n",
       "      <td>2.0</td>\n",
       "      <td>4.0</td>\n",
       "      <td></td>\n",
       "      <td>3.0</td>\n",
       "      <td>5.0</td>\n",
       "      <td></td>\n",
       "      <td>4.0</td>\n",
       "      <td>3.0</td>\n",
       "      <td>4.0</td>\n",
       "      <td>4.0</td>\n",
       "      <td>...</td>\n",
       "      <td></td>\n",
       "      <td></td>\n",
       "      <td></td>\n",
       "      <td></td>\n",
       "      <td></td>\n",
       "      <td></td>\n",
       "      <td></td>\n",
       "      <td></td>\n",
       "      <td></td>\n",
       "      <td></td>\n",
       "    </tr>\n",
       "  </tbody>\n",
       "</table>\n",
       "<p>5 rows × 1342 columns</p>\n",
       "</div>"
      ],
      "text/plain": [
       "     Pirates of the Caribbean: The Curse of the Black Pearl  \\\n",
       "348                                                 4.0       \n",
       "4447                                                3.0       \n",
       "6495                                                3.0       \n",
       "2104                                                4.0       \n",
       "236                                                 2.0       \n",
       "\n",
       "     Lord of the Rings: The Fellowship of the Ring The Italian Job  \\\n",
       "348                                            4.0             4.0   \n",
       "4447                                           1.0             2.0   \n",
       "6495                                                           3.0   \n",
       "2104                                                           4.0   \n",
       "236                                            4.0                   \n",
       "\n",
       "     The Last Samurai American Beauty Bruce Almighty The Bourne Supremacy  \\\n",
       "348               5.0             3.0            3.0                  4.0   \n",
       "4447              5.0             5.0            2.0                  2.0   \n",
       "6495              2.0             3.0            3.0                  3.0   \n",
       "2104              4.0             4.0                                 3.0   \n",
       "236               3.0             5.0                                 4.0   \n",
       "\n",
       "     The Sixth Sense Kill Bill: Vol. 2 Shrek 2  ...  \\\n",
       "348              1.0               4.0     1.0  ...   \n",
       "4447             4.0               2.0     2.0  ...   \n",
       "6495                               3.0     2.0  ...   \n",
       "2104             3.0               5.0          ...   \n",
       "236              3.0               4.0     4.0  ...   \n",
       "\n",
       "     The Prime of Miss Jean Brodie Highlander: Season 5  \\\n",
       "348                                                 5.0   \n",
       "4447                                                      \n",
       "6495                                                      \n",
       "2104                                                      \n",
       "236                                                       \n",
       "\n",
       "     Father's Little Dividend The Computer Wore Tennis Shoes  \\\n",
       "348                       1.0                                  \n",
       "4447                                                           \n",
       "6495                                                           \n",
       "2104                                                           \n",
       "236                                                            \n",
       "\n",
       "     The Hunchback of Notre Dame  \\\n",
       "348                                \n",
       "4447                               \n",
       "6495                         2.0   \n",
       "2104                               \n",
       "236                                \n",
       "\n",
       "     Missing in Action 2: The Beginning / Missing in Action 3: Braddock  \\\n",
       "348                                                                       \n",
       "4447                                                                      \n",
       "6495                                                                      \n",
       "2104                                                                      \n",
       "236                                                                       \n",
       "\n",
       "     The Love Letter Richie Rich Holiday in the Sun  \\\n",
       "348                          1.0                      \n",
       "4447                                                  \n",
       "6495                                                  \n",
       "2104                                                  \n",
       "236                                                   \n",
       "\n",
       "     Police Academy 5: Assignment - Miami Beach  \n",
       "348                                              \n",
       "4447                                             \n",
       "6495                                             \n",
       "2104                                             \n",
       "236                                              \n",
       "\n",
       "[5 rows x 1342 columns]"
      ]
     },
     "execution_count": 30,
     "metadata": {},
     "output_type": "execute_result"
    }
   ],
   "source": [
    "cluster.fillna('').head()"
   ]
  },
  {
   "cell_type": "markdown",
   "metadata": {},
   "source": [
    "Pick a blank cell from the table. It's blank because that user did not rate that movie. Can we predict whether she would like it or not? Since the user is in a cluster of users that seem to have similar taste, we can take the average of the votes for that movie in this cluster, and that would be a reasonable predicition for much she would enjoy the film."
   ]
  },
  {
   "cell_type": "code",
   "execution_count": 31,
   "metadata": {},
   "outputs": [
    {
     "data": {
      "text/plain": [
       "2.8524590163934427"
      ]
     },
     "execution_count": 31,
     "metadata": {},
     "output_type": "execute_result"
    }
   ],
   "source": [
    "# TODO: Fill in the name of the column/movie. e.g. 'Forrest Gump (1994)'\n",
    "# Pick a movie from the table above since we're looking at a subset\n",
    "movie_name = \"Bruce Almighty\"\n",
    "\n",
    "cluster[movie_name].mean()"
   ]
  },
  {
   "cell_type": "markdown",
   "metadata": {},
   "source": [
    "And this would be our prediction for how she'd rate the movie.\n",
    "\n",
    "## Recommendation\n",
    "\n",
    "Let's reiterate what we did in the previous step. We have used k-means to cluster users according to their ratings. This lead us to clusters of users with similar ratings and thus generally a similar taste in movies. Based on this, when one user did not have a rating for a certain movie we averaged the ratings of all the other users in the cluster, and that was our guess to how this one user would like the movie.\n",
    "\n",
    "Using this logic, if we calculate the average score in this cluster for every movie, we'd have an understanding for how this 'taste cluster' feels about each movie in the dataset."
   ]
  },
  {
   "cell_type": "code",
   "execution_count": 24,
   "metadata": {},
   "outputs": [
    {
     "data": {
      "text/plain": [
       "American Beauty                                           4.205479\n",
       "The Silence of the Lambs                                  4.351351\n",
       "The Sixth Sense                                           4.166667\n",
       "Pirates of the Caribbean: The Curse of the Black Pearl    3.513889\n",
       "Jaws                                                      4.260274\n",
       "Being John Malkovich                                      3.816901\n",
       "Moonstruck                                                3.671233\n",
       "Lord of the Rings: The Fellowship of the Ring             4.071429\n",
       "The Full Monty                                            3.700000\n",
       "Braveheart                                                3.750000\n",
       "A Beautiful Mind                                          3.777778\n",
       "The Wizard of Oz: Collector's Edition                     4.297297\n",
       "When Harry Met Sally                                      3.555556\n",
       "Ghost                                                     2.971831\n",
       "Bridget Jones's Diary                                     3.434783\n",
       "Sleepless in Seattle                                      3.151515\n",
       "High Fidelity                                             3.577465\n",
       "North by Northwest                                        4.228571\n",
       "The Godfather, Part II                                    4.328571\n",
       "Speed                                                     3.027778\n",
       "dtype: float64"
      ]
     },
     "execution_count": 24,
     "metadata": {},
     "output_type": "execute_result"
    }
   ],
   "source": [
    "# The average rating of 20 movies as rated by the users in the cluster\n",
    "cluster.mean().head(20)"
   ]
  },
  {
   "cell_type": "markdown",
   "metadata": {},
   "source": [
    "This becomes really useful for us because we can now use it as a recommendation engine that enables our users to discover movies they're likely to enjoy.\n",
    "\n",
    "When a user logs in to our app, we can now show them recommendations that are appropriate to their taste. The formula for these recommendations is to select the cluster's highest-rated movies that the user did not rate yet."
   ]
  },
  {
   "cell_type": "code",
   "execution_count": 25,
   "metadata": {},
   "outputs": [
    {
     "data": {
      "text/plain": [
       "Jaws                                            4.260274\n",
       "Lost: Season 1                                  4.250000\n",
       "Six Feet Under: Season 4                        4.241379\n",
       "Absolutely Fabulous: Series 5                   4.240000\n",
       "The Simpsons: Season 6                          4.222222\n",
       "The Third Man                                   4.133333\n",
       "Nip/Tuck: Season 2                              4.105263\n",
       "The Simpsons: Season 1                          4.071429\n",
       "The Simpsons: Treehouse of Horror               4.051282\n",
       "The Simpsons: Season 3                          4.023810\n",
       "End of the Century: The Story of the Ramones    4.000000\n",
       "Batman Begins                                   3.978723\n",
       "The Looney Tunes Golden Collection: Vol. 2      3.956522\n",
       "Foyle's War: Set 2                              3.950000\n",
       "The Simpsons: Bart Wars                         3.933333\n",
       "The Twilight Zone: Vol. 33                      3.916667\n",
       "The West Wing: Season 3                         3.903226\n",
       "Buffy the Vampire Slayer: Season 6              3.900000\n",
       "Northern Exposure: Season 1                     3.884615\n",
       "A Christmas Carol                               3.882353\n",
       "Name: 0, dtype: float64"
      ]
     },
     "execution_count": 25,
     "metadata": {},
     "output_type": "execute_result"
    }
   ],
   "source": [
    "# TODO: Pick a user ID from the dataset\n",
    "# Look at the table above outputted by the command \"cluster.fillna('').head()\" \n",
    "# and pick one of the user ids (the first column in the table)\n",
    "user_id = 1700\n",
    "\n",
    "# Get all this user's ratings\n",
    "user_2_ratings  = cluster.loc[user_id, :]\n",
    "\n",
    "# Which movies did they not rate? (We don't want to recommend movies they've already rated)\n",
    "user_2_unrated_movies =  user_2_ratings[user_2_ratings.isnull()]\n",
    "\n",
    "# What are the ratings of these movies the user did not rate?\n",
    "avg_ratings = pd.concat([user_2_unrated_movies, cluster.mean()], axis=1, join='inner').loc[:,0]\n",
    "\n",
    "# Let's sort by rating so the highest rated movies are presented first\n",
    "avg_ratings.sort_values(ascending=False)[:20]"
   ]
  },
  {
   "cell_type": "code",
   "execution_count": null,
   "metadata": {},
   "outputs": [],
   "source": []
  },
  {
   "cell_type": "code",
   "execution_count": null,
   "metadata": {},
   "outputs": [],
   "source": []
  },
  {
   "cell_type": "code",
   "execution_count": null,
   "metadata": {},
   "outputs": [],
   "source": []
  }
 ],
 "metadata": {
  "interpreter": {
   "hash": "377a86ed648d505aa8e2299da587e08563154ed83032d579f843e5e3d78e0dcf"
  },
  "kernelspec": {
   "display_name": "Python 3.8.8 ('venv': venv)",
   "language": "python",
   "name": "python3"
  },
  "language_info": {
   "codemirror_mode": {
    "name": "ipython",
    "version": 3
   },
   "file_extension": ".py",
   "mimetype": "text/x-python",
   "name": "python",
   "nbconvert_exporter": "python",
   "pygments_lexer": "ipython3",
   "version": "3.8.8"
  },
  "orig_nbformat": 4
 },
 "nbformat": 4,
 "nbformat_minor": 2
}
